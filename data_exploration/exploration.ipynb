{
 "cells": [
  {
   "cell_type": "markdown",
   "metadata": {},
   "source": [
    "# DOODLE Customer Movement Prediction"
   ]
  },
  {
   "cell_type": "markdown",
   "metadata": {},
   "source": [
    "## 1. Introduction"
   ]
  },
  {
   "cell_type": "code",
   "execution_count": null,
   "metadata": {},
   "outputs": [],
   "source": []
  },
  {
   "cell_type": "markdown",
   "metadata": {},
   "source": [
    "### 1.1 Load Packages"
   ]
  },
  {
   "cell_type": "code",
   "execution_count": 1,
   "metadata": {},
   "outputs": [],
   "source": [
    "# data processing libraries\n",
    "import numpy as np\n",
    "import pandas as pd"
   ]
  },
  {
   "cell_type": "code",
   "execution_count": 2,
   "metadata": {},
   "outputs": [],
   "source": [
    "# plotting libraries\n",
    "from matplotlib import pyplot as plt\n",
    "%matplotlib inline\n",
    "import seaborn as sns"
   ]
  },
  {
   "cell_type": "code",
   "execution_count": 3,
   "metadata": {},
   "outputs": [],
   "source": [
    "import datetime\n",
    "from datetime import datetime as dt"
   ]
  },
  {
   "cell_type": "code",
   "execution_count": 4,
   "metadata": {},
   "outputs": [],
   "source": [
    "# miscellaneous\n",
    "import warnings\n",
    "warnings.filterwarnings(\"ignore\")\n",
    "\n",
    "from sklearn.preprocessing import normalize"
   ]
  },
  {
   "cell_type": "markdown",
   "metadata": {},
   "source": [
    "## 2. Get Data"
   ]
  },
  {
   "cell_type": "code",
   "execution_count": 5,
   "metadata": {},
   "outputs": [],
   "source": [
    "# read data from file\n",
    "days = ['monday','tuesday','wednesday','thursday','friday']\n",
    "df = {}\n",
    "for day in days:\n",
    "    file_path = '../data/'+day+'.csv'\n",
    "    df[day] = pd.read_csv(file_path,sep=';')"
   ]
  },
  {
   "cell_type": "markdown",
   "metadata": {},
   "source": [
    "### 2.1 Quick Exploration"
   ]
  },
  {
   "cell_type": "markdown",
   "metadata": {},
   "source": [
    "#### check data head"
   ]
  },
  {
   "cell_type": "code",
   "execution_count": 6,
   "metadata": {},
   "outputs": [
    {
     "name": "stdout",
     "output_type": "stream",
     "text": [
      "\n",
      "monday:\n",
      "              timestamp  customer_no location\n",
      "0  2019-09-02 07:03:00            1    dairy\n",
      "1  2019-09-02 07:03:00            2    dairy\n",
      "2  2019-09-02 07:04:00            3    dairy\n",
      "3  2019-09-02 07:04:00            4    dairy\n",
      "4  2019-09-02 07:04:00            5   spices\n",
      "\n",
      "tuesday:\n",
      "              timestamp  customer_no location\n",
      "0  2019-09-03 07:02:00            1    fruit\n",
      "1  2019-09-03 07:02:00            2   drinks\n",
      "2  2019-09-03 07:03:00            3    dairy\n",
      "3  2019-09-03 07:05:00            1   drinks\n",
      "4  2019-09-03 07:06:00            4    dairy\n",
      "\n",
      "wednesday:\n",
      "              timestamp  customer_no location\n",
      "0  2019-09-04 07:00:00            1    fruit\n",
      "1  2019-09-04 07:00:00            2    dairy\n",
      "2  2019-09-04 07:00:00            3    fruit\n",
      "3  2019-09-04 07:00:00            4    fruit\n",
      "4  2019-09-04 07:00:00            5    dairy\n",
      "\n",
      "thursday:\n",
      "              timestamp  customer_no  location\n",
      "0  2019-09-05 07:00:00            1    drinks\n",
      "1  2019-09-05 07:01:00            2     fruit\n",
      "2  2019-09-05 07:01:00            3     dairy\n",
      "3  2019-09-05 07:01:00            4     dairy\n",
      "4  2019-09-05 07:02:00            1  checkout\n",
      "\n",
      "friday:\n",
      "              timestamp  customer_no  location\n",
      "0  2019-09-06 07:00:00            1     dairy\n",
      "1  2019-09-06 07:00:00            2    drinks\n",
      "2  2019-09-06 07:00:00            3     fruit\n",
      "3  2019-09-06 07:01:00            2  checkout\n",
      "4  2019-09-06 07:01:00            4    drinks\n"
     ]
    }
   ],
   "source": [
    "for day in days:\n",
    "    print(f'\\n{day}:\\n {df[day].head()}')"
   ]
  },
  {
   "cell_type": "markdown",
   "metadata": {},
   "source": [
    "*Observation 1: There is repetation of customer number from day to day*\n",
    "<br>\n",
    "*Observation 2: Earliest checkin time 07:00*"
   ]
  },
  {
   "cell_type": "markdown",
   "metadata": {},
   "source": [
    "#### check data tail"
   ]
  },
  {
   "cell_type": "code",
   "execution_count": 7,
   "metadata": {},
   "outputs": [
    {
     "name": "stdout",
     "output_type": "stream",
     "text": [
      "\n",
      "monday:\n",
      "                 timestamp  customer_no  location\n",
      "4879  2019-09-02 21:49:00         1442  checkout\n",
      "4880  2019-09-02 21:49:00         1444  checkout\n",
      "4881  2019-09-02 21:49:00         1445     dairy\n",
      "4882  2019-09-02 21:50:00         1446     dairy\n",
      "4883  2019-09-02 21:50:00         1447     fruit\n",
      "\n",
      "tuesday:\n",
      "                 timestamp  customer_no  location\n",
      "4709  2019-09-03 21:47:00         1421    drinks\n",
      "4710  2019-09-03 21:47:00         1422     dairy\n",
      "4711  2019-09-03 21:48:00         1421  checkout\n",
      "4712  2019-09-03 21:49:00         1412  checkout\n",
      "4713  2019-09-03 21:50:00         1411     dairy\n",
      "\n",
      "wednesday:\n",
      "                 timestamp  customer_no  location\n",
      "5045  2019-09-04 21:48:00         1528    spices\n",
      "5046  2019-09-04 21:49:00         1520     dairy\n",
      "5047  2019-09-04 21:49:00         1529     dairy\n",
      "5048  2019-09-04 21:49:00         1530     fruit\n",
      "5049  2019-09-04 21:49:00         1531  checkout\n",
      "\n",
      "thursday:\n",
      "                 timestamp  customer_no  location\n",
      "5099  2019-09-05 21:48:00         1533     dairy\n",
      "5100  2019-09-05 21:48:00         1534     fruit\n",
      "5101  2019-09-05 21:48:00         1535    spices\n",
      "5102  2019-09-05 21:49:00         1534  checkout\n",
      "5103  2019-09-05 21:49:00         1535  checkout\n",
      "\n",
      "friday:\n",
      "                 timestamp  customer_no  location\n",
      "5120  2019-09-06 21:50:00         1500     dairy\n",
      "5121  2019-09-06 21:50:00         1507  checkout\n",
      "5122  2019-09-06 21:50:00         1508  checkout\n",
      "5123  2019-09-06 21:50:00         1509    drinks\n",
      "5124  2019-09-06 21:50:00         1510    spices\n"
     ]
    }
   ],
   "source": [
    "for day in days:\n",
    "    print(f'\\n{day}:\\n {df[day].tail()}')"
   ]
  },
  {
   "cell_type": "markdown",
   "metadata": {},
   "source": [
    "*Observation: Last checkout time is 21:50*"
   ]
  },
  {
   "cell_type": "markdown",
   "metadata": {},
   "source": [
    "#### check missing values"
   ]
  },
  {
   "cell_type": "code",
   "execution_count": 8,
   "metadata": {
    "scrolled": true
   },
   "outputs": [
    {
     "name": "stdout",
     "output_type": "stream",
     "text": [
      "\n",
      "monday:\n",
      "timestamp      0\n",
      "customer_no    0\n",
      "location       0\n",
      "dtype: int64\n",
      "\n",
      "tuesday:\n",
      "timestamp      0\n",
      "customer_no    0\n",
      "location       0\n",
      "dtype: int64\n",
      "\n",
      "wednesday:\n",
      "timestamp      0\n",
      "customer_no    0\n",
      "location       0\n",
      "dtype: int64\n",
      "\n",
      "thursday:\n",
      "timestamp      0\n",
      "customer_no    0\n",
      "location       0\n",
      "dtype: int64\n",
      "\n",
      "friday:\n",
      "timestamp      0\n",
      "customer_no    0\n",
      "location       0\n",
      "dtype: int64\n"
     ]
    }
   ],
   "source": [
    "for day in days:\n",
    "    print(f'\\n{day}:')\n",
    "    print(f'{df[day].isna().sum()}')"
   ]
  },
  {
   "cell_type": "markdown",
   "metadata": {},
   "source": [
    "*Observation: There are no missing values*"
   ]
  },
  {
   "cell_type": "markdown",
   "metadata": {},
   "source": [
    "#### check customer info"
   ]
  },
  {
   "cell_type": "code",
   "execution_count": 9,
   "metadata": {},
   "outputs": [
    {
     "name": "stdout",
     "output_type": "stream",
     "text": [
      "\n",
      "monday customer\n",
      "\n",
      "   tracked: 4884, unique: 1447, min_no: 1, max_no: 1447\n",
      "\n",
      "tuesday customer\n",
      "\n",
      "   tracked: 4714, unique: 1422, min_no: 1, max_no: 1422\n",
      "\n",
      "wednesday customer\n",
      "\n",
      "   tracked: 5050, unique: 1531, min_no: 1, max_no: 1531\n",
      "\n",
      "thursday customer\n",
      "\n",
      "   tracked: 5104, unique: 1535, min_no: 1, max_no: 1535\n",
      "\n",
      "friday customer\n",
      "\n",
      "   tracked: 5125, unique: 1510, min_no: 1, max_no: 1510\n"
     ]
    }
   ],
   "source": [
    "for day in days:\n",
    "    print(f'\\n{day} customer\\n')\n",
    "    tracked = df[day]['customer_no'].count()\n",
    "    unique = df[day]['customer_no'].nunique()\n",
    "    min_no = df[day]['customer_no'].min()\n",
    "    max_no = df[day]['customer_no'].max()\n",
    "    print(f'   tracked: {tracked}, unique: {unique}, min_no: {min_no}, max_no: {max_no}')"
   ]
  },
  {
   "cell_type": "markdown",
   "metadata": {},
   "source": [
    "*Observation:Customers are tracked at multiple locations. Number of unique customers in a day < 2000.*"
   ]
  },
  {
   "cell_type": "markdown",
   "metadata": {},
   "source": [
    "#### check data info"
   ]
  },
  {
   "cell_type": "code",
   "execution_count": 10,
   "metadata": {},
   "outputs": [
    {
     "name": "stdout",
     "output_type": "stream",
     "text": [
      "\n",
      "monday:\n",
      "\n",
      "<class 'pandas.core.frame.DataFrame'>\n",
      "RangeIndex: 4884 entries, 0 to 4883\n",
      "Data columns (total 3 columns):\n",
      " #   Column       Non-Null Count  Dtype \n",
      "---  ------       --------------  ----- \n",
      " 0   timestamp    4884 non-null   object\n",
      " 1   customer_no  4884 non-null   int64 \n",
      " 2   location     4884 non-null   object\n",
      "dtypes: int64(1), object(2)\n",
      "memory usage: 114.6+ KB\n",
      "None\n",
      "\n",
      "tuesday:\n",
      "\n",
      "<class 'pandas.core.frame.DataFrame'>\n",
      "RangeIndex: 4714 entries, 0 to 4713\n",
      "Data columns (total 3 columns):\n",
      " #   Column       Non-Null Count  Dtype \n",
      "---  ------       --------------  ----- \n",
      " 0   timestamp    4714 non-null   object\n",
      " 1   customer_no  4714 non-null   int64 \n",
      " 2   location     4714 non-null   object\n",
      "dtypes: int64(1), object(2)\n",
      "memory usage: 110.6+ KB\n",
      "None\n",
      "\n",
      "wednesday:\n",
      "\n",
      "<class 'pandas.core.frame.DataFrame'>\n",
      "RangeIndex: 5050 entries, 0 to 5049\n",
      "Data columns (total 3 columns):\n",
      " #   Column       Non-Null Count  Dtype \n",
      "---  ------       --------------  ----- \n",
      " 0   timestamp    5050 non-null   object\n",
      " 1   customer_no  5050 non-null   int64 \n",
      " 2   location     5050 non-null   object\n",
      "dtypes: int64(1), object(2)\n",
      "memory usage: 118.5+ KB\n",
      "None\n",
      "\n",
      "thursday:\n",
      "\n",
      "<class 'pandas.core.frame.DataFrame'>\n",
      "RangeIndex: 5104 entries, 0 to 5103\n",
      "Data columns (total 3 columns):\n",
      " #   Column       Non-Null Count  Dtype \n",
      "---  ------       --------------  ----- \n",
      " 0   timestamp    5104 non-null   object\n",
      " 1   customer_no  5104 non-null   int64 \n",
      " 2   location     5104 non-null   object\n",
      "dtypes: int64(1), object(2)\n",
      "memory usage: 119.8+ KB\n",
      "None\n",
      "\n",
      "friday:\n",
      "\n",
      "<class 'pandas.core.frame.DataFrame'>\n",
      "RangeIndex: 5125 entries, 0 to 5124\n",
      "Data columns (total 3 columns):\n",
      " #   Column       Non-Null Count  Dtype \n",
      "---  ------       --------------  ----- \n",
      " 0   timestamp    5125 non-null   object\n",
      " 1   customer_no  5125 non-null   int64 \n",
      " 2   location     5125 non-null   object\n",
      "dtypes: int64(1), object(2)\n",
      "memory usage: 120.2+ KB\n",
      "None\n"
     ]
    }
   ],
   "source": [
    "for day in days:\n",
    "    print(f'\\n{day}:\\n')\n",
    "    print(df[day].info())"
   ]
  },
  {
   "cell_type": "markdown",
   "metadata": {},
   "source": [
    "*Comment:timestamp needs to be converted to datetime object*"
   ]
  },
  {
   "cell_type": "markdown",
   "metadata": {},
   "source": [
    "### 2.2 Data Pre-Processing:"
   ]
  },
  {
   "cell_type": "markdown",
   "metadata": {},
   "source": [
    "#### Pre-process daily data"
   ]
  },
  {
   "cell_type": "code",
   "execution_count": 11,
   "metadata": {},
   "outputs": [],
   "source": [
    "for i in range(len(days)):\n",
    "    # make unique customer number throughout the week (jump 2000 each day)\n",
    "    df[days[i]]['customer_no'] = df[days[i]]['customer_no'] + 2000*i\n",
    "    # create time column\n",
    "    df[days[i]]['time'] = df[days[i]]['timestamp'].apply(lambda x: dt.strptime(x,'%Y-%m-%d %H:%M:%S').time())\n",
    "    # drop timestamp column\n",
    "    df[days[i]].drop('timestamp',axis=1,inplace=True)"
   ]
  },
  {
   "cell_type": "markdown",
   "metadata": {},
   "source": [
    "#### Merge dataframes"
   ]
  },
  {
   "cell_type": "code",
   "execution_count": 12,
   "metadata": {},
   "outputs": [
    {
     "data": {
      "text/html": [
       "<div>\n",
       "<style scoped>\n",
       "    .dataframe tbody tr th:only-of-type {\n",
       "        vertical-align: middle;\n",
       "    }\n",
       "\n",
       "    .dataframe tbody tr th {\n",
       "        vertical-align: top;\n",
       "    }\n",
       "\n",
       "    .dataframe thead th {\n",
       "        text-align: right;\n",
       "    }\n",
       "</style>\n",
       "<table border=\"1\" class=\"dataframe\">\n",
       "  <thead>\n",
       "    <tr style=\"text-align: right;\">\n",
       "      <th></th>\n",
       "      <th>customer_no</th>\n",
       "      <th>location</th>\n",
       "      <th>time</th>\n",
       "    </tr>\n",
       "  </thead>\n",
       "  <tbody>\n",
       "    <tr>\n",
       "      <th>0</th>\n",
       "      <td>1</td>\n",
       "      <td>dairy</td>\n",
       "      <td>07:03:00</td>\n",
       "    </tr>\n",
       "    <tr>\n",
       "      <th>1</th>\n",
       "      <td>2</td>\n",
       "      <td>dairy</td>\n",
       "      <td>07:03:00</td>\n",
       "    </tr>\n",
       "    <tr>\n",
       "      <th>2</th>\n",
       "      <td>3</td>\n",
       "      <td>dairy</td>\n",
       "      <td>07:04:00</td>\n",
       "    </tr>\n",
       "    <tr>\n",
       "      <th>3</th>\n",
       "      <td>4</td>\n",
       "      <td>dairy</td>\n",
       "      <td>07:04:00</td>\n",
       "    </tr>\n",
       "    <tr>\n",
       "      <th>4</th>\n",
       "      <td>5</td>\n",
       "      <td>spices</td>\n",
       "      <td>07:04:00</td>\n",
       "    </tr>\n",
       "  </tbody>\n",
       "</table>\n",
       "</div>"
      ],
      "text/plain": [
       "   customer_no location      time\n",
       "0            1    dairy  07:03:00\n",
       "1            2    dairy  07:03:00\n",
       "2            3    dairy  07:04:00\n",
       "3            4    dairy  07:04:00\n",
       "4            5   spices  07:04:00"
      ]
     },
     "execution_count": 12,
     "metadata": {},
     "output_type": "execute_result"
    }
   ],
   "source": [
    "# concatenate the dataframes\n",
    "df_all = pd.concat(list(df.values()))\n",
    "df_all.head()"
   ]
  },
  {
   "cell_type": "code",
   "execution_count": 13,
   "metadata": {},
   "outputs": [
    {
     "data": {
      "text/plain": [
       "(24877, 3)"
      ]
     },
     "execution_count": 13,
     "metadata": {},
     "output_type": "execute_result"
    }
   ],
   "source": [
    "df_all.shape"
   ]
  },
  {
   "cell_type": "markdown",
   "metadata": {},
   "source": [
    "## 3. Data Exploration"
   ]
  },
  {
   "cell_type": "markdown",
   "metadata": {},
   "source": [
    "#### Total number of customers in each section"
   ]
  },
  {
   "cell_type": "code",
   "execution_count": 14,
   "metadata": {},
   "outputs": [
    {
     "data": {
      "text/html": [
       "<div>\n",
       "<style scoped>\n",
       "    .dataframe tbody tr th:only-of-type {\n",
       "        vertical-align: middle;\n",
       "    }\n",
       "\n",
       "    .dataframe tbody tr th {\n",
       "        vertical-align: top;\n",
       "    }\n",
       "\n",
       "    .dataframe thead th {\n",
       "        text-align: right;\n",
       "    }\n",
       "</style>\n",
       "<table border=\"1\" class=\"dataframe\">\n",
       "  <thead>\n",
       "    <tr style=\"text-align: right;\">\n",
       "      <th></th>\n",
       "      <th>location</th>\n",
       "      <th>customer_no</th>\n",
       "    </tr>\n",
       "  </thead>\n",
       "  <tbody>\n",
       "    <tr>\n",
       "      <th>1</th>\n",
       "      <td>dairy</td>\n",
       "      <td>3818</td>\n",
       "    </tr>\n",
       "    <tr>\n",
       "      <th>2</th>\n",
       "      <td>drinks</td>\n",
       "      <td>3214</td>\n",
       "    </tr>\n",
       "    <tr>\n",
       "      <th>3</th>\n",
       "      <td>fruit</td>\n",
       "      <td>4284</td>\n",
       "    </tr>\n",
       "    <tr>\n",
       "      <th>4</th>\n",
       "      <td>spices</td>\n",
       "      <td>2938</td>\n",
       "    </tr>\n",
       "  </tbody>\n",
       "</table>\n",
       "</div>"
      ],
      "text/plain": [
       "  location  customer_no\n",
       "1    dairy         3818\n",
       "2   drinks         3214\n",
       "3    fruit         4284\n",
       "4   spices         2938"
      ]
     },
     "execution_count": 14,
     "metadata": {},
     "output_type": "execute_result"
    }
   ],
   "source": [
    "sectionwise = df_all.groupby('location')[['customer_no']].nunique().reset_index()\n",
    "sectionwise = sectionwise[sectionwise['location']!='checkout']\n",
    "sectionwise"
   ]
  },
  {
   "cell_type": "code",
   "execution_count": 15,
   "metadata": {
    "scrolled": true
   },
   "outputs": [
    {
     "data": {
      "image/png": "[encoded data removed]",
      "text/plain": [
       "<Figure size 1000x400 with 1 Axes>"
      ]
     },
     "metadata": {
      "needs_background": "light"
     },
     "output_type": "display_data"
    }
   ],
   "source": [
    "plt.figure(figsize=(10,4),dpi=100)\n",
    "sns.barplot(x='location',y='customer_no',data=sectionwise)\n",
    "None"
   ]
  },
  {
   "cell_type": "markdown",
   "metadata": {},
   "source": [
    "#### Claim: Some customers' checkout is missing! This is seen below"
   ]
  },
  {
   "cell_type": "code",
   "execution_count": 16,
   "metadata": {},
   "outputs": [
    {
     "name": "stdout",
     "output_type": "stream",
     "text": [
      "customers without checkout info: 28\n"
     ]
    }
   ],
   "source": [
    "# set of all customers\n",
    "customers = set(df_all['customer_no'])\n",
    "\n",
    "# set of customers that checked out\n",
    "checkout = set(df_all[df_all['location']=='checkout']['customer_no'])\n",
    "\n",
    "# set of customers with missing checkout\n",
    "no_checkout = customers - checkout\n",
    "\n",
    "print(f'customers without checkout info: {len(no_checkout)}')"
   ]
  },
  {
   "cell_type": "code",
   "execution_count": 17,
   "metadata": {},
   "outputs": [
    {
     "data": {
      "image/png": "[encoded data removed]",
      "text/plain": [
       "<Figure size 1000x400 with 1 Axes>"
      ]
     },
     "metadata": {
      "needs_background": "light"
     },
     "output_type": "display_data"
    }
   ],
   "source": [
    "# dataframe slice for customers without checkout info\n",
    "df_no_checkout = df_all[df_all['customer_no'].isin(no_checkout)]\n",
    "\n",
    "# dataframe for last location of customer\n",
    "df_no_checkout = df_no_checkout.groupby('customer_no')[['time']].max().reset_index()\n",
    "\n",
    "# count plot of anomalous last location at last tracking time\n",
    "plt.figure(figsize=(10,4),dpi=100)\n",
    "sns.countplot(df_no_checkout.sort_values(by='time')['time'])\n",
    "None"
   ]
  },
  {
   "cell_type": "markdown",
   "metadata": {},
   "source": [
    "*Observation: Last tracking time of customers without checkout info is close to final checkout time*"
   ]
  },
  {
   "cell_type": "markdown",
   "metadata": {},
   "source": [
    "#### Append dataframe for customers with missing checkout info"
   ]
  },
  {
   "cell_type": "code",
   "execution_count": 18,
   "metadata": {},
   "outputs": [],
   "source": [
    "# appending dataframe with forced checkout info\n",
    "\n",
    "# forced checkout time 21:50:01 chosen for convenience\n",
    "last_checkout = dt.strptime('21:50:01','%H:%M:%S').time()\n",
    "\n",
    "# dictionary\n",
    "dict_append = {'customer_no': sorted(list(no_checkout)),\n",
    "               'location': ['checkout']*len(no_checkout),\n",
    "               'time': [last_checkout]*len(no_checkout)\n",
    "              }\n",
    "\n",
    "# dataframe\n",
    "df_append = pd.DataFrame(data = dict_append)\n",
    "\n",
    "# concatenation\n",
    "df_all = pd.concat([df_all,df_append])"
   ]
  },
  {
   "cell_type": "markdown",
   "metadata": {},
   "source": [
    "#### Total number of customers in each section over time"
   ]
  },
  {
   "cell_type": "code",
   "execution_count": 19,
   "metadata": {},
   "outputs": [],
   "source": [
    "# add the monday date to time for convenience\n",
    "date = datetime.date(2019,9,2)\n",
    "\n",
    "df_all['hour'] = df_all['time'].apply(lambda x: dt.combine(date,x).hour)\n",
    "location_hourly = df_all.groupby(['location','hour'])[['customer_no']].nunique().reset_index()"
   ]
  },
  {
   "cell_type": "code",
   "execution_count": 20,
   "metadata": {},
   "outputs": [
    {
     "data": {
      "image/png": "[encoded data removed]",
      "text/plain": [
       "<Figure size 1000x400 with 1 Axes>"
      ]
     },
     "metadata": {
      "needs_background": "light"
     },
     "output_type": "display_data"
    }
   ],
   "source": [
    "section_hourly = location_hourly[location_hourly['location']!='checkout']\n",
    "\n",
    "plt.figure(figsize=(10,4),dpi=100)\n",
    "sns.barplot(x='hour',y='customer_no',hue='location',data=section_hourly)\n",
    "plt.legend(loc=1)\n",
    "None"
   ]
  },
  {
   "cell_type": "markdown",
   "metadata": {},
   "source": [
    "#### Plot number of customers at checkout over time"
   ]
  },
  {
   "cell_type": "code",
   "execution_count": 21,
   "metadata": {},
   "outputs": [
    {
     "data": {
      "image/png": "[encoded data removed]",
      "text/plain": [
       "<Figure size 1000x400 with 1 Axes>"
      ]
     },
     "metadata": {
      "needs_background": "light"
     },
     "output_type": "display_data"
    }
   ],
   "source": [
    "checkout_hourly = location_hourly[location_hourly['location']=='checkout']\n",
    "\n",
    "plt.figure(figsize=(10,4),dpi=100)\n",
    "sns.barplot(x='hour',y='customer_no',data=checkout_hourly)\n",
    "None"
   ]
  },
  {
   "cell_type": "markdown",
   "metadata": {},
   "source": [
    "#### Total number of customers over time"
   ]
  },
  {
   "cell_type": "code",
   "execution_count": 22,
   "metadata": {},
   "outputs": [
    {
     "data": {
      "image/png": "[encoded data removed]",
      "text/plain": [
       "<Figure size 1000x400 with 1 Axes>"
      ]
     },
     "metadata": {
      "needs_background": "light"
     },
     "output_type": "display_data"
    }
   ],
   "source": [
    "total_hourly = df_all.groupby('hour')[['customer_no']].nunique().reset_index()\n",
    "\n",
    "plt.figure(figsize=(10,4),dpi=100)\n",
    "sns.barplot(x='hour',y='customer_no',data=total_hourly)\n",
    "None"
   ]
  },
  {
   "cell_type": "markdown",
   "metadata": {},
   "source": [
    "#### Customers every minute "
   ]
  },
  {
   "cell_type": "code",
   "execution_count": 23,
   "metadata": {},
   "outputs": [],
   "source": [
    "# list of possible entry munbers in a minute \n",
    "no_of_entry = [i for i in range(12)]\n",
    "\n",
    "# find entry time of customer\n",
    "df_entry = df_all.groupby('customer_no')[['time']].min().reset_index()\n",
    "\n",
    "# opening: 7:00, closing: 21:50\n",
    "minutes_in_day = (21-7)*60 + 50\n",
    "\n",
    "# count customer entering in given minute everyday\n",
    "frequency = np.zeros(12)\n",
    "for i in range(len(days)):\n",
    "    # slice out out the dataframe\n",
    "    df_x = df_entry[(df_entry['customer_no']>2000*i)&(df_entry['customer_no']<2000*(i+1))]\n",
    "    \n",
    "    # number of missing minutes\n",
    "    missing_minutes = minutes_in_day - df_x['time'].nunique()\n",
    "    \n",
    "    # count customers coming in in a minute\n",
    "    df_x = df_x.groupby('time')['customer_no'].count().reset_index()\n",
    "    \n",
    "    # value count\n",
    "    df_freq = pd.DataFrame(df_x['customer_no'].value_counts())\n",
    "    a,freq = list(df_freq.index), list(df_freq['customer_no'])\n",
    "\n",
    "    # add zero customer\n",
    "    a.append(0)\n",
    "    freq.append(missing_minutes)\n",
    "    \n",
    "    # add other possible missing values\n",
    "    missing = list(set(no_of_entry) - set(a))\n",
    "    a.extend(missing)\n",
    "    freq.extend([0]*len(missing))\n",
    "    \n",
    "    # sort values\n",
    "    zipped = sorted(list(zip(a,freq)),key=lambda x: x[0])\n",
    "    freq_ordered = np.array([zipped[i][1] for i in range(len(zipped))])\n",
    "    \n",
    "    # add daily values\n",
    "    frequency += freq_ordered\n",
    "\n",
    "# calculate probability\n",
    "prob = [i/sum(frequency) for i in frequency]"
   ]
  },
  {
   "cell_type": "code",
   "execution_count": 24,
   "metadata": {},
   "outputs": [],
   "source": [
    "# save as json\n",
    "import json\n",
    "with open('../data/customer_number_prob.json', 'w') as fp:\n",
    "    json.dump(prob, fp)"
   ]
  },
  {
   "cell_type": "markdown",
   "metadata": {},
   "source": [
    "### 3.1 Customer Movement Dataset"
   ]
  },
  {
   "cell_type": "code",
   "execution_count": 25,
   "metadata": {},
   "outputs": [
    {
     "data": {
      "text/html": [
       "<div>\n",
       "<style scoped>\n",
       "    .dataframe tbody tr th:only-of-type {\n",
       "        vertical-align: middle;\n",
       "    }\n",
       "\n",
       "    .dataframe tbody tr th {\n",
       "        vertical-align: top;\n",
       "    }\n",
       "\n",
       "    .dataframe thead th {\n",
       "        text-align: right;\n",
       "    }\n",
       "</style>\n",
       "<table border=\"1\" class=\"dataframe\">\n",
       "  <thead>\n",
       "    <tr style=\"text-align: right;\">\n",
       "      <th></th>\n",
       "      <th>customer_no</th>\n",
       "      <th>path</th>\n",
       "    </tr>\n",
       "  </thead>\n",
       "  <tbody>\n",
       "    <tr>\n",
       "      <th>0</th>\n",
       "      <td>1</td>\n",
       "      <td>dd</td>\n",
       "    </tr>\n",
       "    <tr>\n",
       "      <th>1</th>\n",
       "      <td>2</td>\n",
       "      <td>ddd</td>\n",
       "    </tr>\n",
       "    <tr>\n",
       "      <th>2</th>\n",
       "      <td>3</td>\n",
       "      <td>dd</td>\n",
       "    </tr>\n",
       "    <tr>\n",
       "      <th>3</th>\n",
       "      <td>4</td>\n",
       "      <td>dddd</td>\n",
       "    </tr>\n",
       "    <tr>\n",
       "      <th>4</th>\n",
       "      <td>5</td>\n",
       "      <td>s</td>\n",
       "    </tr>\n",
       "  </tbody>\n",
       "</table>\n",
       "</div>"
      ],
      "text/plain": [
       "   customer_no  path\n",
       "0            1    dd\n",
       "1            2   ddd\n",
       "2            3    dd\n",
       "3            4  dddd\n",
       "4            5     s"
      ]
     },
     "execution_count": 25,
     "metadata": {},
     "output_type": "execute_result"
    }
   ],
   "source": [
    "# assign a letter for each section\n",
    "letter = {'fruit':'f','spices':'s','dairy':'d','drinks':'k'}\n",
    "\n",
    "# sort data by customer_no and then by time\n",
    "df_path = df_all.sort_values(by =['customer_no','time'])\n",
    "\n",
    "# find minutes spent in a location\n",
    "df_path['spent_min'] = df_path['time'].apply(lambda x: dt.combine(date,x)).diff(periods=1).shift(-1)\n",
    "df_path = df_path[df_path['location']!='checkout']\n",
    "df_path['spent_min'] = df_path['spent_min'].apply(lambda x: int(x.seconds/60))\n",
    "    \n",
    "# find path string for the customer\n",
    "df_path['path'] = df_path.apply(lambda x: letter[x['location']]*x['spent_min'],axis=1)\n",
    "\n",
    "# make dataframe for customer path\n",
    "df_path = df_path.groupby('customer_no')['path'].sum().reset_index()\n",
    "df_path.head()"
   ]
  },
  {
   "cell_type": "markdown",
   "metadata": {},
   "source": [
    "#### Save file"
   ]
  },
  {
   "cell_type": "code",
   "execution_count": 26,
   "metadata": {},
   "outputs": [],
   "source": [
    "# save the path dataframe as csv file\n",
    "df_path.to_csv('path_data.csv')"
   ]
  },
  {
   "cell_type": "markdown",
   "metadata": {},
   "source": [
    "#### Customer time spent in the market"
   ]
  },
  {
   "cell_type": "code",
   "execution_count": 27,
   "metadata": {},
   "outputs": [
    {
     "data": {
      "image/png": "[encoded data removed]",
      "text/plain": [
       "<Figure size 1000x400 with 1 Axes>"
      ]
     },
     "metadata": {
      "needs_background": "light"
     },
     "output_type": "display_data"
    }
   ],
   "source": [
    "# compute spent time\n",
    "df_path['total_stay'] = df_path['path'].apply(lambda x: len(x))\n",
    "\n",
    "plt.figure(figsize=(10,4),dpi=100)\n",
    "sns.distplot(df_path['total_stay'],kde=False)\n",
    "None"
   ]
  },
  {
   "cell_type": "code",
   "execution_count": 28,
   "metadata": {},
   "outputs": [
    {
     "name": "stdout",
     "output_type": "stream",
     "text": [
      "average_stay: 6.25 min\n",
      "median_stay : 4.0 min\n"
     ]
    }
   ],
   "source": [
    "mean_stay = round(df_path['total_stay'].mean(),2)\n",
    "median_stay = round(df_path['total_stay'].median(),2)\n",
    "print(f'average_stay: {mean_stay } min') \n",
    "print(f'median_stay : {median_stay} min')"
   ]
  },
  {
   "cell_type": "markdown",
   "metadata": {},
   "source": [
    "#### Distribution of customers of first visited section vs following sections"
   ]
  },
  {
   "cell_type": "code",
   "execution_count": 29,
   "metadata": {},
   "outputs": [
    {
     "data": {
      "text/html": [
       "<div>\n",
       "<style scoped>\n",
       "    .dataframe tbody tr th:only-of-type {\n",
       "        vertical-align: middle;\n",
       "    }\n",
       "\n",
       "    .dataframe tbody tr th {\n",
       "        vertical-align: top;\n",
       "    }\n",
       "\n",
       "    .dataframe thead th {\n",
       "        text-align: right;\n",
       "    }\n",
       "</style>\n",
       "<table border=\"1\" class=\"dataframe\">\n",
       "  <thead>\n",
       "    <tr style=\"text-align: right;\">\n",
       "      <th></th>\n",
       "      <th>customer_no</th>\n",
       "      <th>path</th>\n",
       "      <th>total_stay</th>\n",
       "      <th>first_section</th>\n",
       "      <th>following_sections</th>\n",
       "    </tr>\n",
       "  </thead>\n",
       "  <tbody>\n",
       "    <tr>\n",
       "      <th>0</th>\n",
       "      <td>1</td>\n",
       "      <td>dd</td>\n",
       "      <td>2</td>\n",
       "      <td>2</td>\n",
       "      <td>0</td>\n",
       "    </tr>\n",
       "    <tr>\n",
       "      <th>1</th>\n",
       "      <td>2</td>\n",
       "      <td>ddd</td>\n",
       "      <td>3</td>\n",
       "      <td>3</td>\n",
       "      <td>0</td>\n",
       "    </tr>\n",
       "    <tr>\n",
       "      <th>2</th>\n",
       "      <td>3</td>\n",
       "      <td>dd</td>\n",
       "      <td>2</td>\n",
       "      <td>2</td>\n",
       "      <td>0</td>\n",
       "    </tr>\n",
       "    <tr>\n",
       "      <th>3</th>\n",
       "      <td>4</td>\n",
       "      <td>dddd</td>\n",
       "      <td>4</td>\n",
       "      <td>4</td>\n",
       "      <td>0</td>\n",
       "    </tr>\n",
       "    <tr>\n",
       "      <th>4</th>\n",
       "      <td>5</td>\n",
       "      <td>s</td>\n",
       "      <td>1</td>\n",
       "      <td>1</td>\n",
       "      <td>0</td>\n",
       "    </tr>\n",
       "  </tbody>\n",
       "</table>\n",
       "</div>"
      ],
      "text/plain": [
       "   customer_no  path  total_stay  first_section  following_sections\n",
       "0            1    dd           2              2                   0\n",
       "1            2   ddd           3              3                   0\n",
       "2            3    dd           2              2                   0\n",
       "3            4  dddd           4              4                   0\n",
       "4            5     s           1              1                   0"
      ]
     },
     "execution_count": 29,
     "metadata": {},
     "output_type": "execute_result"
    }
   ],
   "source": [
    "df_path['first_section'] = df_path['path'].apply(lambda x: 0 if x=='' else x.count(x[0]))\n",
    "df_path['following_sections'] = df_path['total_stay']-df_path['first_section']\n",
    "df_path.head()"
   ]
  },
  {
   "cell_type": "code",
   "execution_count": 30,
   "metadata": {
    "scrolled": true
   },
   "outputs": [
    {
     "data": {
      "text/html": [
       "<div>\n",
       "<style scoped>\n",
       "    .dataframe tbody tr th:only-of-type {\n",
       "        vertical-align: middle;\n",
       "    }\n",
       "\n",
       "    .dataframe tbody tr th {\n",
       "        vertical-align: top;\n",
       "    }\n",
       "\n",
       "    .dataframe thead th {\n",
       "        text-align: right;\n",
       "    }\n",
       "</style>\n",
       "<table border=\"1\" class=\"dataframe\">\n",
       "  <thead>\n",
       "    <tr style=\"text-align: right;\">\n",
       "      <th></th>\n",
       "      <th>level_0</th>\n",
       "      <th>level_1</th>\n",
       "      <th>min_spent</th>\n",
       "    </tr>\n",
       "  </thead>\n",
       "  <tbody>\n",
       "    <tr>\n",
       "      <th>0</th>\n",
       "      <td>0</td>\n",
       "      <td>first_section</td>\n",
       "      <td>2</td>\n",
       "    </tr>\n",
       "    <tr>\n",
       "      <th>1</th>\n",
       "      <td>0</td>\n",
       "      <td>following_sections</td>\n",
       "      <td>0</td>\n",
       "    </tr>\n",
       "    <tr>\n",
       "      <th>2</th>\n",
       "      <td>1</td>\n",
       "      <td>first_section</td>\n",
       "      <td>3</td>\n",
       "    </tr>\n",
       "    <tr>\n",
       "      <th>3</th>\n",
       "      <td>1</td>\n",
       "      <td>following_sections</td>\n",
       "      <td>0</td>\n",
       "    </tr>\n",
       "    <tr>\n",
       "      <th>4</th>\n",
       "      <td>2</td>\n",
       "      <td>first_section</td>\n",
       "      <td>2</td>\n",
       "    </tr>\n",
       "  </tbody>\n",
       "</table>\n",
       "</div>"
      ],
      "text/plain": [
       "   level_0             level_1  min_spent\n",
       "0        0       first_section          2\n",
       "1        0  following_sections          0\n",
       "2        1       first_section          3\n",
       "3        1  following_sections          0\n",
       "4        2       first_section          2"
      ]
     },
     "execution_count": 30,
     "metadata": {},
     "output_type": "execute_result"
    }
   ],
   "source": [
    "df_stay = pd.DataFrame(data=df_path[['first_section','following_sections']].stack(),columns=['min_spent'])\n",
    "df_stay.reset_index(inplace=True)\n",
    "df_stay.head()"
   ]
  },
  {
   "cell_type": "code",
   "execution_count": 31,
   "metadata": {},
   "outputs": [
    {
     "data": {
      "image/png": "[encoded data removed]",
      "text/plain": [
       "<Figure size 1200x500 with 1 Axes>"
      ]
     },
     "metadata": {
      "needs_background": "light"
     },
     "output_type": "display_data"
    }
   ],
   "source": [
    "plt.figure(figsize=(12,5),dpi=100)\n",
    "sns.countplot(data=df_stay,x='min_spent', hue='level_1')\n",
    "plt.legend(loc=1)\n",
    "None"
   ]
  },
  {
   "cell_type": "markdown",
   "metadata": {},
   "source": [
    "#### Revenue Estimate"
   ]
  },
  {
   "cell_type": "code",
   "execution_count": 32,
   "metadata": {},
   "outputs": [],
   "source": [
    "def revenue(customer_no):\n",
    "    df = df_path.set_index('customer_no')\n",
    "    rev_map = {'f':4,'s':3,'d':5,'k':6}\n",
    "    path = df.loc[customer_no]['path']\n",
    "    revenue = sum([rev_map[letter] for letter in path])\n",
    "    print(f'revenue for customer {customer_no}: {revenue} Euros')"
   ]
  },
  {
   "cell_type": "code",
   "execution_count": 33,
   "metadata": {},
   "outputs": [
    {
     "name": "stdout",
     "output_type": "stream",
     "text": [
      "revenue for customer 1231: 54 Euros\n"
     ]
    }
   ],
   "source": [
    "revenue(customer_no=1231)"
   ]
  },
  {
   "cell_type": "code",
   "execution_count": null,
   "metadata": {},
   "outputs": [],
   "source": []
  }
 ],
 "metadata": {
  "kernelspec": {
   "display_name": "Python 3",
   "language": "python",
   "name": "python3"
  },
  "language_info": {
   "codemirror_mode": {
    "name": "ipython",
    "version": 3
   },
   "file_extension": ".py",
   "mimetype": "text/x-python",
   "name": "python",
   "nbconvert_exporter": "python",
   "pygments_lexer": "ipython3",
   "version": "3.7.6"
  }
 },
 "nbformat": 4,
 "nbformat_minor": 4
}
